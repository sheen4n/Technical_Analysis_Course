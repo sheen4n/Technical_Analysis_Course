{
 "cells": [
  {
   "cell_type": "markdown",
   "metadata": {},
   "source": [
    "# Technical Analysis with Python - an Introduction"
   ]
  },
  {
   "cell_type": "markdown",
   "metadata": {},
   "source": [
    "## Installing and importing required Libraries/Packages"
   ]
  },
  {
   "cell_type": "markdown",
   "metadata": {},
   "source": [
    "Install pandas-datareader, plotly and cufflinks with:\n",
    "- conda install pandas-datareader\n",
    "- pip install cufflinks"
   ]
  },
  {
   "cell_type": "code",
   "execution_count": 1,
   "metadata": {},
   "outputs": [
    {
     "data": {
      "text/html": [
       "        <script type=\"text/javascript\">\n",
       "        window.PlotlyConfig = {MathJaxConfig: 'local'};\n",
       "        if (window.MathJax) {MathJax.Hub.Config({SVG: {font: \"STIX-Web\"}});}\n",
       "        if (typeof require !== 'undefined') {\n",
       "        require.undef(\"plotly\");\n",
       "        requirejs.config({\n",
       "            paths: {\n",
       "                'plotly': ['https://cdn.plot.ly/plotly-latest.min']\n",
       "            }\n",
       "        });\n",
       "        require(['plotly'], function(Plotly) {\n",
       "            window._Plotly = Plotly;\n",
       "        });\n",
       "        }\n",
       "        </script>\n",
       "        "
      ]
     },
     "metadata": {},
     "output_type": "display_data"
    }
   ],
   "source": [
    "import pandas as pd\n",
    "import numpy\n",
    "import matplotlib.pyplot as plt\n",
    "import cufflinks as cf\n",
    "from pandas_datareader import data"
   ]
  },
  {
   "cell_type": "code",
   "execution_count": null,
   "metadata": {},
   "outputs": [],
   "source": []
  },
  {
   "cell_type": "markdown",
   "metadata": {},
   "source": [
    "## Loading Financial Data from the Web"
   ]
  },
  {
   "cell_type": "code",
   "execution_count": null,
   "metadata": {},
   "outputs": [],
   "source": [
    "start = \"2010-01-01\"\n",
    "end = \"2020-12-31\""
   ]
  },
  {
   "cell_type": "code",
   "execution_count": null,
   "metadata": {},
   "outputs": [],
   "source": [
    "symbol = \"MSFT\""
   ]
  },
  {
   "cell_type": "code",
   "execution_count": null,
   "metadata": {},
   "outputs": [],
   "source": [
    "df = data.DataReader(name = symbol, data_source = \"yahoo\", start = start, end = end)\n",
    "df"
   ]
  },
  {
   "cell_type": "code",
   "execution_count": null,
   "metadata": {},
   "outputs": [],
   "source": [
    "df.info()"
   ]
  },
  {
   "cell_type": "code",
   "execution_count": null,
   "metadata": {},
   "outputs": [],
   "source": [
    "symbol = [\"MSFT\", \"GE\", \"AAPL\"]"
   ]
  },
  {
   "cell_type": "code",
   "execution_count": null,
   "metadata": {},
   "outputs": [],
   "source": [
    "df = data.DataReader(name = symbol, data_source = \"yahoo\", start = start, end = end)\n",
    "df"
   ]
  },
  {
   "cell_type": "code",
   "execution_count": null,
   "metadata": {},
   "outputs": [],
   "source": [
    "df.to_csv(\"stocks.csv\")"
   ]
  },
  {
   "cell_type": "code",
   "execution_count": null,
   "metadata": {},
   "outputs": [],
   "source": []
  },
  {
   "cell_type": "markdown",
   "metadata": {},
   "source": [
    "## Charting - Simple Line Charts"
   ]
  },
  {
   "cell_type": "code",
   "execution_count": 2,
   "metadata": {},
   "outputs": [
    {
     "data": {
      "text/html": [
       "<div>\n",
       "<style scoped>\n",
       "    .dataframe tbody tr th:only-of-type {\n",
       "        vertical-align: middle;\n",
       "    }\n",
       "\n",
       "    .dataframe tbody tr th {\n",
       "        vertical-align: top;\n",
       "    }\n",
       "\n",
       "    .dataframe thead tr th {\n",
       "        text-align: left;\n",
       "    }\n",
       "\n",
       "    .dataframe thead tr:last-of-type th {\n",
       "        text-align: right;\n",
       "    }\n",
       "</style>\n",
       "<table border=\"1\" class=\"dataframe\">\n",
       "  <thead>\n",
       "    <tr>\n",
       "      <th>Attributes</th>\n",
       "      <th colspan=\"3\" halign=\"left\">Adj Close</th>\n",
       "      <th colspan=\"3\" halign=\"left\">Close</th>\n",
       "      <th colspan=\"3\" halign=\"left\">High</th>\n",
       "      <th colspan=\"3\" halign=\"left\">Low</th>\n",
       "      <th colspan=\"3\" halign=\"left\">Open</th>\n",
       "      <th colspan=\"3\" halign=\"left\">Volume</th>\n",
       "    </tr>\n",
       "    <tr>\n",
       "      <th>Symbols</th>\n",
       "      <th>MSFT</th>\n",
       "      <th>GE</th>\n",
       "      <th>AAPL</th>\n",
       "      <th>MSFT</th>\n",
       "      <th>GE</th>\n",
       "      <th>AAPL</th>\n",
       "      <th>MSFT</th>\n",
       "      <th>GE</th>\n",
       "      <th>AAPL</th>\n",
       "      <th>MSFT</th>\n",
       "      <th>GE</th>\n",
       "      <th>AAPL</th>\n",
       "      <th>MSFT</th>\n",
       "      <th>GE</th>\n",
       "      <th>AAPL</th>\n",
       "      <th>MSFT</th>\n",
       "      <th>GE</th>\n",
       "      <th>AAPL</th>\n",
       "    </tr>\n",
       "    <tr>\n",
       "      <th>Date</th>\n",
       "      <th></th>\n",
       "      <th></th>\n",
       "      <th></th>\n",
       "      <th></th>\n",
       "      <th></th>\n",
       "      <th></th>\n",
       "      <th></th>\n",
       "      <th></th>\n",
       "      <th></th>\n",
       "      <th></th>\n",
       "      <th></th>\n",
       "      <th></th>\n",
       "      <th></th>\n",
       "      <th></th>\n",
       "      <th></th>\n",
       "      <th></th>\n",
       "      <th></th>\n",
       "      <th></th>\n",
       "    </tr>\n",
       "  </thead>\n",
       "  <tbody>\n",
       "    <tr>\n",
       "      <th>2010-01-04</th>\n",
       "      <td>24.049969</td>\n",
       "      <td>11.001803</td>\n",
       "      <td>6.583586</td>\n",
       "      <td>30.950001</td>\n",
       "      <td>14.855769</td>\n",
       "      <td>7.643214</td>\n",
       "      <td>31.100000</td>\n",
       "      <td>15.038462</td>\n",
       "      <td>7.660714</td>\n",
       "      <td>30.590000</td>\n",
       "      <td>14.567308</td>\n",
       "      <td>7.585000</td>\n",
       "      <td>30.620001</td>\n",
       "      <td>14.634615</td>\n",
       "      <td>7.622500</td>\n",
       "      <td>38409100.0</td>\n",
       "      <td>69763096.0</td>\n",
       "      <td>493729600.0</td>\n",
       "    </tr>\n",
       "    <tr>\n",
       "      <th>2010-01-05</th>\n",
       "      <td>24.057743</td>\n",
       "      <td>11.058768</td>\n",
       "      <td>6.594968</td>\n",
       "      <td>30.959999</td>\n",
       "      <td>14.932692</td>\n",
       "      <td>7.656429</td>\n",
       "      <td>31.100000</td>\n",
       "      <td>15.067308</td>\n",
       "      <td>7.699643</td>\n",
       "      <td>30.639999</td>\n",
       "      <td>14.855769</td>\n",
       "      <td>7.616071</td>\n",
       "      <td>30.850000</td>\n",
       "      <td>14.865385</td>\n",
       "      <td>7.664286</td>\n",
       "      <td>49749600.0</td>\n",
       "      <td>67132624.0</td>\n",
       "      <td>601904800.0</td>\n",
       "    </tr>\n",
       "    <tr>\n",
       "      <th>2010-01-06</th>\n",
       "      <td>23.910097</td>\n",
       "      <td>11.001803</td>\n",
       "      <td>6.490066</td>\n",
       "      <td>30.770000</td>\n",
       "      <td>14.855769</td>\n",
       "      <td>7.534643</td>\n",
       "      <td>31.080000</td>\n",
       "      <td>15.019231</td>\n",
       "      <td>7.686786</td>\n",
       "      <td>30.520000</td>\n",
       "      <td>14.846154</td>\n",
       "      <td>7.526786</td>\n",
       "      <td>30.879999</td>\n",
       "      <td>14.932692</td>\n",
       "      <td>7.656429</td>\n",
       "      <td>58182400.0</td>\n",
       "      <td>57683496.0</td>\n",
       "      <td>552160000.0</td>\n",
       "    </tr>\n",
       "    <tr>\n",
       "      <th>2010-01-07</th>\n",
       "      <td>23.661432</td>\n",
       "      <td>11.571475</td>\n",
       "      <td>6.478067</td>\n",
       "      <td>30.450001</td>\n",
       "      <td>15.625000</td>\n",
       "      <td>7.520714</td>\n",
       "      <td>30.700001</td>\n",
       "      <td>15.846154</td>\n",
       "      <td>7.571429</td>\n",
       "      <td>30.190001</td>\n",
       "      <td>14.836538</td>\n",
       "      <td>7.466071</td>\n",
       "      <td>30.629999</td>\n",
       "      <td>14.884615</td>\n",
       "      <td>7.562500</td>\n",
       "      <td>50559700.0</td>\n",
       "      <td>192891192.0</td>\n",
       "      <td>477131200.0</td>\n",
       "    </tr>\n",
       "    <tr>\n",
       "      <th>2010-01-08</th>\n",
       "      <td>23.824627</td>\n",
       "      <td>11.820707</td>\n",
       "      <td>6.521136</td>\n",
       "      <td>30.660000</td>\n",
       "      <td>15.961538</td>\n",
       "      <td>7.570714</td>\n",
       "      <td>30.879999</td>\n",
       "      <td>16.048077</td>\n",
       "      <td>7.571429</td>\n",
       "      <td>30.240000</td>\n",
       "      <td>15.644231</td>\n",
       "      <td>7.466429</td>\n",
       "      <td>30.280001</td>\n",
       "      <td>15.682692</td>\n",
       "      <td>7.510714</td>\n",
       "      <td>51197400.0</td>\n",
       "      <td>119717104.0</td>\n",
       "      <td>447610800.0</td>\n",
       "    </tr>\n",
       "    <tr>\n",
       "      <th>...</th>\n",
       "      <td>...</td>\n",
       "      <td>...</td>\n",
       "      <td>...</td>\n",
       "      <td>...</td>\n",
       "      <td>...</td>\n",
       "      <td>...</td>\n",
       "      <td>...</td>\n",
       "      <td>...</td>\n",
       "      <td>...</td>\n",
       "      <td>...</td>\n",
       "      <td>...</td>\n",
       "      <td>...</td>\n",
       "      <td>...</td>\n",
       "      <td>...</td>\n",
       "      <td>...</td>\n",
       "      <td>...</td>\n",
       "      <td>...</td>\n",
       "      <td>...</td>\n",
       "    </tr>\n",
       "    <tr>\n",
       "      <th>2020-12-24</th>\n",
       "      <td>222.238144</td>\n",
       "      <td>10.650000</td>\n",
       "      <td>131.773087</td>\n",
       "      <td>222.750000</td>\n",
       "      <td>10.650000</td>\n",
       "      <td>131.970001</td>\n",
       "      <td>223.610001</td>\n",
       "      <td>10.850000</td>\n",
       "      <td>133.460007</td>\n",
       "      <td>221.199997</td>\n",
       "      <td>10.620000</td>\n",
       "      <td>131.100006</td>\n",
       "      <td>221.419998</td>\n",
       "      <td>10.850000</td>\n",
       "      <td>131.320007</td>\n",
       "      <td>10550600.0</td>\n",
       "      <td>30049700.0</td>\n",
       "      <td>54930100.0</td>\n",
       "    </tr>\n",
       "    <tr>\n",
       "      <th>2020-12-28</th>\n",
       "      <td>224.443069</td>\n",
       "      <td>10.640000</td>\n",
       "      <td>136.486053</td>\n",
       "      <td>224.960007</td>\n",
       "      <td>10.640000</td>\n",
       "      <td>136.690002</td>\n",
       "      <td>226.029999</td>\n",
       "      <td>10.780000</td>\n",
       "      <td>137.339996</td>\n",
       "      <td>223.020004</td>\n",
       "      <td>10.580000</td>\n",
       "      <td>133.509995</td>\n",
       "      <td>224.449997</td>\n",
       "      <td>10.700000</td>\n",
       "      <td>133.990005</td>\n",
       "      <td>17933500.0</td>\n",
       "      <td>53796700.0</td>\n",
       "      <td>124486200.0</td>\n",
       "    </tr>\n",
       "    <tr>\n",
       "      <th>2020-12-29</th>\n",
       "      <td>223.634918</td>\n",
       "      <td>10.560000</td>\n",
       "      <td>134.668762</td>\n",
       "      <td>224.149994</td>\n",
       "      <td>10.560000</td>\n",
       "      <td>134.869995</td>\n",
       "      <td>227.179993</td>\n",
       "      <td>10.770000</td>\n",
       "      <td>138.789993</td>\n",
       "      <td>223.580002</td>\n",
       "      <td>10.540000</td>\n",
       "      <td>134.339996</td>\n",
       "      <td>226.309998</td>\n",
       "      <td>10.660000</td>\n",
       "      <td>138.050003</td>\n",
       "      <td>17403200.0</td>\n",
       "      <td>53035900.0</td>\n",
       "      <td>121047300.0</td>\n",
       "    </tr>\n",
       "    <tr>\n",
       "      <th>2020-12-30</th>\n",
       "      <td>221.170593</td>\n",
       "      <td>10.710000</td>\n",
       "      <td>133.520477</td>\n",
       "      <td>221.679993</td>\n",
       "      <td>10.710000</td>\n",
       "      <td>133.720001</td>\n",
       "      <td>225.630005</td>\n",
       "      <td>10.850000</td>\n",
       "      <td>135.990005</td>\n",
       "      <td>221.470001</td>\n",
       "      <td>10.550000</td>\n",
       "      <td>133.399994</td>\n",
       "      <td>225.229996</td>\n",
       "      <td>10.580000</td>\n",
       "      <td>135.580002</td>\n",
       "      <td>20272300.0</td>\n",
       "      <td>50621000.0</td>\n",
       "      <td>96452100.0</td>\n",
       "    </tr>\n",
       "    <tr>\n",
       "      <th>2020-12-31</th>\n",
       "      <td>221.908905</td>\n",
       "      <td>10.800000</td>\n",
       "      <td>132.492020</td>\n",
       "      <td>222.419998</td>\n",
       "      <td>10.800000</td>\n",
       "      <td>132.690002</td>\n",
       "      <td>223.000000</td>\n",
       "      <td>10.830000</td>\n",
       "      <td>134.740005</td>\n",
       "      <td>219.679993</td>\n",
       "      <td>10.580000</td>\n",
       "      <td>131.720001</td>\n",
       "      <td>221.699997</td>\n",
       "      <td>10.650000</td>\n",
       "      <td>134.080002</td>\n",
       "      <td>20942100.0</td>\n",
       "      <td>47702300.0</td>\n",
       "      <td>99116600.0</td>\n",
       "    </tr>\n",
       "  </tbody>\n",
       "</table>\n",
       "<p>2769 rows × 18 columns</p>\n",
       "</div>"
      ],
      "text/plain": [
       "Attributes   Adj Close                              Close             \\\n",
       "Symbols           MSFT         GE        AAPL        MSFT         GE   \n",
       "Date                                                                   \n",
       "2010-01-04   24.049969  11.001803    6.583586   30.950001  14.855769   \n",
       "2010-01-05   24.057743  11.058768    6.594968   30.959999  14.932692   \n",
       "2010-01-06   23.910097  11.001803    6.490066   30.770000  14.855769   \n",
       "2010-01-07   23.661432  11.571475    6.478067   30.450001  15.625000   \n",
       "2010-01-08   23.824627  11.820707    6.521136   30.660000  15.961538   \n",
       "...                ...        ...         ...         ...        ...   \n",
       "2020-12-24  222.238144  10.650000  131.773087  222.750000  10.650000   \n",
       "2020-12-28  224.443069  10.640000  136.486053  224.960007  10.640000   \n",
       "2020-12-29  223.634918  10.560000  134.668762  224.149994  10.560000   \n",
       "2020-12-30  221.170593  10.710000  133.520477  221.679993  10.710000   \n",
       "2020-12-31  221.908905  10.800000  132.492020  222.419998  10.800000   \n",
       "\n",
       "Attributes                    High                                Low  \\\n",
       "Symbols           AAPL        MSFT         GE        AAPL        MSFT   \n",
       "Date                                                                    \n",
       "2010-01-04    7.643214   31.100000  15.038462    7.660714   30.590000   \n",
       "2010-01-05    7.656429   31.100000  15.067308    7.699643   30.639999   \n",
       "2010-01-06    7.534643   31.080000  15.019231    7.686786   30.520000   \n",
       "2010-01-07    7.520714   30.700001  15.846154    7.571429   30.190001   \n",
       "2010-01-08    7.570714   30.879999  16.048077    7.571429   30.240000   \n",
       "...                ...         ...        ...         ...         ...   \n",
       "2020-12-24  131.970001  223.610001  10.850000  133.460007  221.199997   \n",
       "2020-12-28  136.690002  226.029999  10.780000  137.339996  223.020004   \n",
       "2020-12-29  134.869995  227.179993  10.770000  138.789993  223.580002   \n",
       "2020-12-30  133.720001  225.630005  10.850000  135.990005  221.470001   \n",
       "2020-12-31  132.690002  223.000000  10.830000  134.740005  219.679993   \n",
       "\n",
       "Attributes                               Open                         \\\n",
       "Symbols            GE        AAPL        MSFT         GE        AAPL   \n",
       "Date                                                                   \n",
       "2010-01-04  14.567308    7.585000   30.620001  14.634615    7.622500   \n",
       "2010-01-05  14.855769    7.616071   30.850000  14.865385    7.664286   \n",
       "2010-01-06  14.846154    7.526786   30.879999  14.932692    7.656429   \n",
       "2010-01-07  14.836538    7.466071   30.629999  14.884615    7.562500   \n",
       "2010-01-08  15.644231    7.466429   30.280001  15.682692    7.510714   \n",
       "...               ...         ...         ...        ...         ...   \n",
       "2020-12-24  10.620000  131.100006  221.419998  10.850000  131.320007   \n",
       "2020-12-28  10.580000  133.509995  224.449997  10.700000  133.990005   \n",
       "2020-12-29  10.540000  134.339996  226.309998  10.660000  138.050003   \n",
       "2020-12-30  10.550000  133.399994  225.229996  10.580000  135.580002   \n",
       "2020-12-31  10.580000  131.720001  221.699997  10.650000  134.080002   \n",
       "\n",
       "Attributes      Volume                            \n",
       "Symbols           MSFT           GE         AAPL  \n",
       "Date                                              \n",
       "2010-01-04  38409100.0   69763096.0  493729600.0  \n",
       "2010-01-05  49749600.0   67132624.0  601904800.0  \n",
       "2010-01-06  58182400.0   57683496.0  552160000.0  \n",
       "2010-01-07  50559700.0  192891192.0  477131200.0  \n",
       "2010-01-08  51197400.0  119717104.0  447610800.0  \n",
       "...                ...          ...          ...  \n",
       "2020-12-24  10550600.0   30049700.0   54930100.0  \n",
       "2020-12-28  17933500.0   53796700.0  124486200.0  \n",
       "2020-12-29  17403200.0   53035900.0  121047300.0  \n",
       "2020-12-30  20272300.0   50621000.0   96452100.0  \n",
       "2020-12-31  20942100.0   47702300.0   99116600.0  \n",
       "\n",
       "[2769 rows x 18 columns]"
      ]
     },
     "execution_count": 2,
     "metadata": {},
     "output_type": "execute_result"
    }
   ],
   "source": [
    "df = pd.read_csv(\"stocks.csv\", header = [0, 1], index_col = 0, parse_dates = [0])\n",
    "df"
   ]
  },
  {
   "cell_type": "code",
   "execution_count": null,
   "metadata": {},
   "outputs": [],
   "source": [
    "df.info()"
   ]
  },
  {
   "cell_type": "code",
   "execution_count": null,
   "metadata": {},
   "outputs": [],
   "source": [
    "df.Close.GE"
   ]
  },
  {
   "cell_type": "code",
   "execution_count": null,
   "metadata": {},
   "outputs": [],
   "source": [
    "df.Close.GE.plot(figsize = (12, 8))\n",
    "plt.show()"
   ]
  },
  {
   "cell_type": "code",
   "execution_count": null,
   "metadata": {},
   "outputs": [],
   "source": [
    "df.loc[\"2020-06\":, (\"Close\", \"GE\")].plot(figsize = (12, 8))\n",
    "plt.show()"
   ]
  },
  {
   "cell_type": "code",
   "execution_count": null,
   "metadata": {},
   "outputs": [],
   "source": []
  },
  {
   "cell_type": "markdown",
   "metadata": {},
   "source": [
    "## Charting - Interactive Line Charts with Cufflinks and Plotly"
   ]
  },
  {
   "cell_type": "code",
   "execution_count": null,
   "metadata": {},
   "outputs": [],
   "source": [
    "df"
   ]
  },
  {
   "cell_type": "code",
   "execution_count": null,
   "metadata": {},
   "outputs": [],
   "source": [
    "cf.set_config_file(offline = True)"
   ]
  },
  {
   "cell_type": "code",
   "execution_count": null,
   "metadata": {},
   "outputs": [],
   "source": [
    "df.loc[\"2020-06\":, (\"Close\", \"GE\")].iplot()"
   ]
  },
  {
   "cell_type": "code",
   "execution_count": null,
   "metadata": {},
   "outputs": [],
   "source": [
    "df.Close.iplot()"
   ]
  },
  {
   "cell_type": "code",
   "execution_count": null,
   "metadata": {},
   "outputs": [],
   "source": []
  },
  {
   "cell_type": "markdown",
   "metadata": {},
   "source": [
    "## Customizing Plotly Charts"
   ]
  },
  {
   "cell_type": "code",
   "execution_count": null,
   "metadata": {},
   "outputs": [],
   "source": [
    "df.Close"
   ]
  },
  {
   "cell_type": "code",
   "execution_count": null,
   "metadata": {},
   "outputs": [],
   "source": [
    "df.Close.iplot(fill = True)"
   ]
  },
  {
   "cell_type": "code",
   "execution_count": null,
   "metadata": {},
   "outputs": [],
   "source": [
    "cf.colors.scales()"
   ]
  },
  {
   "cell_type": "code",
   "execution_count": null,
   "metadata": {},
   "outputs": [],
   "source": [
    "df.Close.iplot(fill = True, colorscale= \"reds\")"
   ]
  },
  {
   "cell_type": "code",
   "execution_count": null,
   "metadata": {},
   "outputs": [],
   "source": [
    "cf.getThemes()"
   ]
  },
  {
   "cell_type": "code",
   "execution_count": null,
   "metadata": {},
   "outputs": [],
   "source": [
    "df.Close.iplot(fill = True, colorscale= \"rdylbu\", theme= \"solar\")"
   ]
  },
  {
   "cell_type": "code",
   "execution_count": null,
   "metadata": {},
   "outputs": [],
   "source": [
    "df.Close.iplot(fill = True, colorscale= \"rdylbu\", theme= \"solar\", \n",
    "             title= \"US Stocks\", xTitle= \"Time\", yTitle= \"Stock Price\")"
   ]
  },
  {
   "cell_type": "code",
   "execution_count": null,
   "metadata": {},
   "outputs": [],
   "source": [
    "df.Close[[\"GE\", \"AAPL\"]].iplot(kind = \"spread\", fill = True, colorscale= \"rdylbu\", theme= \"solar\",\n",
    "                             title= \"GE vs. AAPL\", xTitle= \"Time\", yTitle= \"Stock Price\")"
   ]
  },
  {
   "cell_type": "code",
   "execution_count": null,
   "metadata": {},
   "outputs": [],
   "source": []
  },
  {
   "cell_type": "markdown",
   "metadata": {},
   "source": [
    "## Candlestick and OHLC Charts "
   ]
  },
  {
   "cell_type": "code",
   "execution_count": null,
   "metadata": {},
   "outputs": [],
   "source": [
    "df"
   ]
  },
  {
   "cell_type": "code",
   "execution_count": null,
   "metadata": {},
   "outputs": [],
   "source": [
    "df.swaplevel(axis = 1).GE"
   ]
  },
  {
   "cell_type": "code",
   "execution_count": 3,
   "metadata": {},
   "outputs": [],
   "source": [
    "ge = df.swaplevel(axis = 1).GE.copy()"
   ]
  },
  {
   "cell_type": "code",
   "execution_count": null,
   "metadata": {
    "scrolled": false
   },
   "outputs": [],
   "source": [
    "ge"
   ]
  },
  {
   "cell_type": "code",
   "execution_count": null,
   "metadata": {},
   "outputs": [],
   "source": [
    "ge.loc[\"05-2017\"].iplot(kind= \"candle\")"
   ]
  },
  {
   "cell_type": "code",
   "execution_count": null,
   "metadata": {},
   "outputs": [],
   "source": [
    "ge.loc[\"5-2017\"].iplot(kind= \"ohlc\")"
   ]
  },
  {
   "cell_type": "code",
   "execution_count": null,
   "metadata": {},
   "outputs": [],
   "source": []
  },
  {
   "cell_type": "markdown",
   "metadata": {},
   "source": [
    "## Bar Size / Granularity"
   ]
  },
  {
   "cell_type": "code",
   "execution_count": null,
   "metadata": {},
   "outputs": [],
   "source": [
    "from pandas.tseries.frequencies import to_offset"
   ]
  },
  {
   "cell_type": "code",
   "execution_count": null,
   "metadata": {},
   "outputs": [],
   "source": [
    "ge"
   ]
  },
  {
   "cell_type": "code",
   "execution_count": null,
   "metadata": {},
   "outputs": [],
   "source": [
    "ge.loc[\"5-2017\"].iplot(kind= \"candle\")"
   ]
  },
  {
   "cell_type": "code",
   "execution_count": null,
   "metadata": {},
   "outputs": [],
   "source": [
    "weekly = ge.resample(\"W-Fri\").ohlc()"
   ]
  },
  {
   "cell_type": "code",
   "execution_count": null,
   "metadata": {},
   "outputs": [],
   "source": [
    "weekly"
   ]
  },
  {
   "cell_type": "code",
   "execution_count": null,
   "metadata": {},
   "outputs": [],
   "source": [
    "ge"
   ]
  },
  {
   "cell_type": "code",
   "execution_count": null,
   "metadata": {},
   "outputs": [],
   "source": [
    "weekly = ge.resample(\"W-Fri\").agg({\"Open\":\"first\",\n",
    "                                   \"High\":\"max\",\n",
    "                                   \"Low\":\"min\",\n",
    "                                   \"Close\":\"last\"\n",
    "                                  })"
   ]
  },
  {
   "cell_type": "code",
   "execution_count": null,
   "metadata": {},
   "outputs": [],
   "source": [
    "weekly"
   ]
  },
  {
   "cell_type": "code",
   "execution_count": null,
   "metadata": {},
   "outputs": [],
   "source": [
    "weekly.index = weekly.index - to_offset(\"4d\")"
   ]
  },
  {
   "cell_type": "code",
   "execution_count": null,
   "metadata": {},
   "outputs": [],
   "source": [
    "weekly.loc[\"5-2017\":\"9-2017\"].iplot(kind= \"candle\")"
   ]
  },
  {
   "cell_type": "code",
   "execution_count": null,
   "metadata": {},
   "outputs": [],
   "source": []
  },
  {
   "cell_type": "markdown",
   "metadata": {},
   "source": [
    "## Volume Charts"
   ]
  },
  {
   "cell_type": "code",
   "execution_count": null,
   "metadata": {},
   "outputs": [],
   "source": [
    "ge"
   ]
  },
  {
   "cell_type": "code",
   "execution_count": null,
   "metadata": {},
   "outputs": [],
   "source": [
    "qf = cf.QuantFig(df = ge.loc[\"5-2017\"])"
   ]
  },
  {
   "cell_type": "code",
   "execution_count": null,
   "metadata": {},
   "outputs": [],
   "source": [
    "type(qf)"
   ]
  },
  {
   "cell_type": "code",
   "execution_count": null,
   "metadata": {},
   "outputs": [],
   "source": [
    "qf.iplot(title = \"GE\", name = \"GE\")"
   ]
  },
  {
   "cell_type": "code",
   "execution_count": null,
   "metadata": {},
   "outputs": [],
   "source": [
    "qf.add_volume(colorchange=False)"
   ]
  },
  {
   "cell_type": "code",
   "execution_count": null,
   "metadata": {},
   "outputs": [],
   "source": []
  },
  {
   "cell_type": "markdown",
   "metadata": {},
   "source": [
    "## Technical Indicators - an Overview"
   ]
  },
  {
   "cell_type": "code",
   "execution_count": null,
   "metadata": {},
   "outputs": [],
   "source": [
    "ge"
   ]
  },
  {
   "cell_type": "code",
   "execution_count": null,
   "metadata": {},
   "outputs": [],
   "source": [
    "qf = cf.QuantFig(df = ge.loc[\"2017\":\"2018\"])"
   ]
  },
  {
   "cell_type": "code",
   "execution_count": null,
   "metadata": {},
   "outputs": [],
   "source": [
    "qf."
   ]
  },
  {
   "cell_type": "code",
   "execution_count": null,
   "metadata": {},
   "outputs": [],
   "source": [
    "qf.add_sma(periods = 20)"
   ]
  },
  {
   "cell_type": "code",
   "execution_count": null,
   "metadata": {},
   "outputs": [],
   "source": [
    "qf.iplot(title = \"GE\", name = \"GE\")"
   ]
  },
  {
   "cell_type": "code",
   "execution_count": null,
   "metadata": {},
   "outputs": [],
   "source": [
    "qf.add_sma(periods = 100)"
   ]
  },
  {
   "cell_type": "code",
   "execution_count": null,
   "metadata": {},
   "outputs": [],
   "source": [
    "qf.add_bollinger_bands(periods = 20, boll_std= 2)"
   ]
  },
  {
   "cell_type": "code",
   "execution_count": null,
   "metadata": {},
   "outputs": [],
   "source": [
    "qf = cf.QuantFig(df = ge.loc[\"5-2017\":\"9-2017\"])"
   ]
  },
  {
   "cell_type": "code",
   "execution_count": null,
   "metadata": {},
   "outputs": [],
   "source": [
    "qf.iplot(title = \"GE\", name = \"GE\")"
   ]
  },
  {
   "cell_type": "code",
   "execution_count": null,
   "metadata": {},
   "outputs": [],
   "source": [
    "qf.add_macd()\n",
    "qf.add_dmi()"
   ]
  },
  {
   "cell_type": "code",
   "execution_count": null,
   "metadata": {},
   "outputs": [],
   "source": []
  },
  {
   "cell_type": "markdown",
   "metadata": {},
   "source": [
    "## Trend Lines"
   ]
  },
  {
   "cell_type": "code",
   "execution_count": null,
   "metadata": {},
   "outputs": [],
   "source": [
    "ge"
   ]
  },
  {
   "cell_type": "markdown",
   "metadata": {},
   "source": [
    "__Uptrend__ (Higher Lows)"
   ]
  },
  {
   "cell_type": "code",
   "execution_count": null,
   "metadata": {},
   "outputs": [],
   "source": [
    "qf = cf.QuantFig(df = ge.loc[\"2012\"])"
   ]
  },
  {
   "cell_type": "code",
   "execution_count": null,
   "metadata": {},
   "outputs": [],
   "source": [
    "qf.iplot(title = \"GE\", name = \"GE\")"
   ]
  },
  {
   "cell_type": "code",
   "execution_count": null,
   "metadata": {},
   "outputs": [],
   "source": [
    "qf.add_trendline(date0 = \"2012-07-12\", date1 = \"2012-09-04\")"
   ]
  },
  {
   "cell_type": "markdown",
   "metadata": {},
   "source": [
    "__Downtrend__ (Lower Highs)"
   ]
  },
  {
   "cell_type": "code",
   "execution_count": null,
   "metadata": {},
   "outputs": [],
   "source": [
    "qf = cf.QuantFig(df = ge.loc[\"2018\"])"
   ]
  },
  {
   "cell_type": "code",
   "execution_count": null,
   "metadata": {},
   "outputs": [],
   "source": [
    "qf.iplot(title = \"GE\", name = \"GE\")"
   ]
  },
  {
   "cell_type": "code",
   "execution_count": null,
   "metadata": {},
   "outputs": [],
   "source": [
    "qf.add_trendline(date0 = \"2018-05-22\", date1 = \"2018-10-09\")"
   ]
  },
  {
   "cell_type": "code",
   "execution_count": null,
   "metadata": {},
   "outputs": [],
   "source": []
  },
  {
   "cell_type": "markdown",
   "metadata": {},
   "source": [
    "## Support and Resistance Levels"
   ]
  },
  {
   "cell_type": "code",
   "execution_count": null,
   "metadata": {},
   "outputs": [],
   "source": [
    "ge"
   ]
  },
  {
   "cell_type": "markdown",
   "metadata": {},
   "source": [
    "__Resistance Lines__"
   ]
  },
  {
   "cell_type": "code",
   "execution_count": null,
   "metadata": {},
   "outputs": [],
   "source": [
    "qf = cf.QuantFig(df = ge.loc[\"2012\"])"
   ]
  },
  {
   "cell_type": "code",
   "execution_count": null,
   "metadata": {},
   "outputs": [],
   "source": [
    "qf.iplot(title = \"GE\", name = \"GE\")"
   ]
  },
  {
   "cell_type": "code",
   "execution_count": null,
   "metadata": {},
   "outputs": [],
   "source": [
    "qf.add_resistance(date = \"2012-03-28\")"
   ]
  },
  {
   "cell_type": "markdown",
   "metadata": {},
   "source": [
    "__Support Lines__"
   ]
  },
  {
   "cell_type": "code",
   "execution_count": null,
   "metadata": {},
   "outputs": [],
   "source": [
    "qf = cf.QuantFig(df = ge.loc[\"2013\"])"
   ]
  },
  {
   "cell_type": "code",
   "execution_count": null,
   "metadata": {},
   "outputs": [],
   "source": [
    "qf.iplot(title = \"GE\", name = \"GE\")"
   ]
  },
  {
   "cell_type": "code",
   "execution_count": null,
   "metadata": {},
   "outputs": [],
   "source": [
    "qf.add_support(date = \"2013-06-24\")"
   ]
  },
  {
   "cell_type": "code",
   "execution_count": null,
   "metadata": {},
   "outputs": [],
   "source": []
  },
  {
   "cell_type": "markdown",
   "metadata": {},
   "source": [
    "## Technical Indicators"
   ]
  },
  {
   "cell_type": "markdown",
   "metadata": {},
   "source": [
    "__SMA__"
   ]
  },
  {
   "cell_type": "code",
   "execution_count": null,
   "metadata": {},
   "outputs": [],
   "source": [
    "ge"
   ]
  },
  {
   "cell_type": "code",
   "execution_count": null,
   "metadata": {},
   "outputs": [],
   "source": [
    "qf = cf.QuantFig(df = ge.loc[\"2018\":\"2020\"])"
   ]
  },
  {
   "cell_type": "code",
   "execution_count": null,
   "metadata": {},
   "outputs": [],
   "source": [
    "qf.add_sma(periods = 20)\n",
    "qf.add_sma(periods = 100)"
   ]
  },
  {
   "cell_type": "code",
   "execution_count": null,
   "metadata": {},
   "outputs": [],
   "source": [
    "qf.iplot(title = \"GE\", name = \"GE\")"
   ]
  },
  {
   "cell_type": "code",
   "execution_count": null,
   "metadata": {},
   "outputs": [],
   "source": []
  },
  {
   "cell_type": "markdown",
   "metadata": {},
   "source": [
    "__EMA__"
   ]
  },
  {
   "cell_type": "code",
   "execution_count": null,
   "metadata": {},
   "outputs": [],
   "source": [
    "ge"
   ]
  },
  {
   "cell_type": "code",
   "execution_count": null,
   "metadata": {},
   "outputs": [],
   "source": [
    "qf = cf.QuantFig(df = ge.loc[\"2018\":\"2020\"])"
   ]
  },
  {
   "cell_type": "code",
   "execution_count": null,
   "metadata": {},
   "outputs": [],
   "source": [
    "qf.add_ema(periods = 20)\n",
    "qf.add_ema(periods = 100)"
   ]
  },
  {
   "cell_type": "code",
   "execution_count": null,
   "metadata": {},
   "outputs": [],
   "source": [
    "qf.iplot(title = \"GE\", name = \"GE\")"
   ]
  },
  {
   "cell_type": "code",
   "execution_count": null,
   "metadata": {},
   "outputs": [],
   "source": []
  },
  {
   "cell_type": "markdown",
   "metadata": {},
   "source": [
    "__SMA / EMA__"
   ]
  },
  {
   "cell_type": "code",
   "execution_count": null,
   "metadata": {},
   "outputs": [],
   "source": [
    "ge"
   ]
  },
  {
   "cell_type": "code",
   "execution_count": null,
   "metadata": {},
   "outputs": [],
   "source": [
    "qf = cf.QuantFig(df = ge.loc[\"2018\":\"2019\"])"
   ]
  },
  {
   "cell_type": "code",
   "execution_count": null,
   "metadata": {},
   "outputs": [],
   "source": [
    "qf.add_sma(periods = 50)\n",
    "qf.add_ema(periods = 50)"
   ]
  },
  {
   "cell_type": "code",
   "execution_count": null,
   "metadata": {},
   "outputs": [],
   "source": [
    "qf.iplot(title = \"GE\", name = \"GE\")"
   ]
  },
  {
   "cell_type": "code",
   "execution_count": null,
   "metadata": {},
   "outputs": [],
   "source": []
  },
  {
   "cell_type": "markdown",
   "metadata": {},
   "source": [
    "__MACD__"
   ]
  },
  {
   "cell_type": "code",
   "execution_count": null,
   "metadata": {},
   "outputs": [],
   "source": [
    "ge"
   ]
  },
  {
   "cell_type": "code",
   "execution_count": null,
   "metadata": {},
   "outputs": [],
   "source": [
    "qf = cf.QuantFig(df = ge.loc[\"2019\":])"
   ]
  },
  {
   "cell_type": "code",
   "execution_count": null,
   "metadata": {},
   "outputs": [],
   "source": [
    "qf.add_macd(fast_period = 12, slow_period = 26, signal_period = 9)"
   ]
  },
  {
   "cell_type": "code",
   "execution_count": null,
   "metadata": {},
   "outputs": [],
   "source": [
    "qf.iplot(title = \"GE\", name = \"GE\")"
   ]
  },
  {
   "cell_type": "code",
   "execution_count": null,
   "metadata": {},
   "outputs": [],
   "source": []
  },
  {
   "cell_type": "markdown",
   "metadata": {},
   "source": [
    "__RSI__"
   ]
  },
  {
   "cell_type": "code",
   "execution_count": null,
   "metadata": {},
   "outputs": [],
   "source": [
    "ge"
   ]
  },
  {
   "cell_type": "code",
   "execution_count": null,
   "metadata": {},
   "outputs": [],
   "source": [
    "qf = cf.QuantFig(df = ge.loc[\"2019\":])"
   ]
  },
  {
   "cell_type": "code",
   "execution_count": null,
   "metadata": {},
   "outputs": [],
   "source": [
    "qf.add_rsi(periods = 20, rsi_upper = 70, rsi_lower = 30)"
   ]
  },
  {
   "cell_type": "code",
   "execution_count": null,
   "metadata": {},
   "outputs": [],
   "source": [
    "qf.iplot(title = \"GE\", name = \"GE\")"
   ]
  },
  {
   "cell_type": "code",
   "execution_count": null,
   "metadata": {},
   "outputs": [],
   "source": []
  },
  {
   "cell_type": "markdown",
   "metadata": {},
   "source": [
    "__MACD & RSI__"
   ]
  },
  {
   "cell_type": "code",
   "execution_count": null,
   "metadata": {},
   "outputs": [],
   "source": [
    "ge"
   ]
  },
  {
   "cell_type": "code",
   "execution_count": null,
   "metadata": {},
   "outputs": [],
   "source": [
    "qf = cf.QuantFig(df = ge.loc[\"2019\":])"
   ]
  },
  {
   "cell_type": "code",
   "execution_count": null,
   "metadata": {},
   "outputs": [],
   "source": [
    "qf.add_macd(fast_period = 12, slow_period = 26, signal_period = 9)\n",
    "qf.add_rsi(periods = 20, rsi_upper = 70, rsi_lower = 30)"
   ]
  },
  {
   "cell_type": "code",
   "execution_count": null,
   "metadata": {},
   "outputs": [],
   "source": [
    "qf.iplot(title = \"GE\", name = \"GE\")"
   ]
  },
  {
   "cell_type": "code",
   "execution_count": null,
   "metadata": {},
   "outputs": [],
   "source": []
  },
  {
   "cell_type": "markdown",
   "metadata": {},
   "source": [
    "__Bollinger Bands__"
   ]
  },
  {
   "cell_type": "code",
   "execution_count": null,
   "metadata": {},
   "outputs": [],
   "source": [
    "ge"
   ]
  },
  {
   "cell_type": "code",
   "execution_count": null,
   "metadata": {},
   "outputs": [],
   "source": [
    "qf = cf.QuantFig(df = ge.loc[\"2019\":])"
   ]
  },
  {
   "cell_type": "code",
   "execution_count": null,
   "metadata": {},
   "outputs": [],
   "source": [
    "qf.add_bollinger_bands(periods = 20, boll_std = 2)"
   ]
  },
  {
   "cell_type": "code",
   "execution_count": null,
   "metadata": {},
   "outputs": [],
   "source": [
    "qf.iplot(title = \"GE\", name = \"GE\")"
   ]
  },
  {
   "cell_type": "code",
   "execution_count": null,
   "metadata": {},
   "outputs": [],
   "source": []
  }
 ],
 "metadata": {
  "kernelspec": {
   "display_name": "Python 3",
   "language": "python",
   "name": "python3"
  },
  "language_info": {
   "codemirror_mode": {
    "name": "ipython",
    "version": 3
   },
   "file_extension": ".py",
   "mimetype": "text/x-python",
   "name": "python",
   "nbconvert_exporter": "python",
   "pygments_lexer": "ipython3",
   "version": "3.8.5"
  }
 },
 "nbformat": 4,
 "nbformat_minor": 2
}
