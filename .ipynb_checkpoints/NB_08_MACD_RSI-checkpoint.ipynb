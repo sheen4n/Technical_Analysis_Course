{
 "cells": [
  {
   "cell_type": "markdown",
   "metadata": {},
   "source": [
    "# Using MACD and RSI together"
   ]
  },
  {
   "cell_type": "markdown",
   "metadata": {},
   "source": [
    "## MACD and RSI - Separate Strategies"
   ]
  },
  {
   "cell_type": "code",
   "execution_count": 1,
   "metadata": {},
   "outputs": [],
   "source": [
    "import pandas as pd\n",
    "import numpy as np\n",
    "import matplotlib.pyplot as plt\n",
    "from scipy.optimize import brute\n",
    "plt.style.use(\"seaborn\")"
   ]
  },
  {
   "cell_type": "code",
   "execution_count": 2,
   "metadata": {},
   "outputs": [
    {
     "data": {
      "text/html": [
       "<div>\n",
       "<style scoped>\n",
       "    .dataframe tbody tr th:only-of-type {\n",
       "        vertical-align: middle;\n",
       "    }\n",
       "\n",
       "    .dataframe tbody tr th {\n",
       "        vertical-align: top;\n",
       "    }\n",
       "\n",
       "    .dataframe thead th {\n",
       "        text-align: right;\n",
       "    }\n",
       "</style>\n",
       "<table border=\"1\" class=\"dataframe\">\n",
       "  <thead>\n",
       "    <tr style=\"text-align: right;\">\n",
       "      <th></th>\n",
       "      <th>Date</th>\n",
       "      <th>AUDEUR=X</th>\n",
       "      <th>EURUSD=X</th>\n",
       "      <th>USDGBP=X</th>\n",
       "    </tr>\n",
       "  </thead>\n",
       "  <tbody>\n",
       "    <tr>\n",
       "      <th>0</th>\n",
       "      <td>2004-01-01</td>\n",
       "      <td>0.59780</td>\n",
       "      <td>1.258194</td>\n",
       "      <td>0.56016</td>\n",
       "    </tr>\n",
       "    <tr>\n",
       "      <th>1</th>\n",
       "      <td>2004-01-02</td>\n",
       "      <td>0.60314</td>\n",
       "      <td>1.258194</td>\n",
       "      <td>0.55751</td>\n",
       "    </tr>\n",
       "    <tr>\n",
       "      <th>2</th>\n",
       "      <td>2004-01-05</td>\n",
       "      <td>0.60467</td>\n",
       "      <td>1.268698</td>\n",
       "      <td>0.55334</td>\n",
       "    </tr>\n",
       "    <tr>\n",
       "      <th>3</th>\n",
       "      <td>2004-01-06</td>\n",
       "      <td>0.60350</td>\n",
       "      <td>1.272103</td>\n",
       "      <td>0.54906</td>\n",
       "    </tr>\n",
       "    <tr>\n",
       "      <th>4</th>\n",
       "      <td>2004-01-07</td>\n",
       "      <td>0.60728</td>\n",
       "      <td>1.264095</td>\n",
       "      <td>0.55012</td>\n",
       "    </tr>\n",
       "    <tr>\n",
       "      <th>...</th>\n",
       "      <td>...</td>\n",
       "      <td>...</td>\n",
       "      <td>...</td>\n",
       "      <td>...</td>\n",
       "    </tr>\n",
       "    <tr>\n",
       "      <th>4290</th>\n",
       "      <td>2020-06-24</td>\n",
       "      <td>0.61349</td>\n",
       "      <td>1.131235</td>\n",
       "      <td>0.79841</td>\n",
       "    </tr>\n",
       "    <tr>\n",
       "      <th>4291</th>\n",
       "      <td>2020-06-25</td>\n",
       "      <td>0.60938</td>\n",
       "      <td>1.125087</td>\n",
       "      <td>0.80561</td>\n",
       "    </tr>\n",
       "    <tr>\n",
       "      <th>4292</th>\n",
       "      <td>2020-06-26</td>\n",
       "      <td>0.61373</td>\n",
       "      <td>1.122208</td>\n",
       "      <td>0.80480</td>\n",
       "    </tr>\n",
       "    <tr>\n",
       "      <th>4293</th>\n",
       "      <td>2020-06-29</td>\n",
       "      <td>0.61128</td>\n",
       "      <td>1.122586</td>\n",
       "      <td>0.81023</td>\n",
       "    </tr>\n",
       "    <tr>\n",
       "      <th>4294</th>\n",
       "      <td>2020-06-30</td>\n",
       "      <td>0.61097</td>\n",
       "      <td>1.124720</td>\n",
       "      <td>0.81231</td>\n",
       "    </tr>\n",
       "  </tbody>\n",
       "</table>\n",
       "<p>4295 rows × 4 columns</p>\n",
       "</div>"
      ],
      "text/plain": [
       "            Date  AUDEUR=X  EURUSD=X  USDGBP=X\n",
       "0     2004-01-01   0.59780  1.258194   0.56016\n",
       "1     2004-01-02   0.60314  1.258194   0.55751\n",
       "2     2004-01-05   0.60467  1.268698   0.55334\n",
       "3     2004-01-06   0.60350  1.272103   0.54906\n",
       "4     2004-01-07   0.60728  1.264095   0.55012\n",
       "...          ...       ...       ...       ...\n",
       "4290  2020-06-24   0.61349  1.131235   0.79841\n",
       "4291  2020-06-25   0.60938  1.125087   0.80561\n",
       "4292  2020-06-26   0.61373  1.122208   0.80480\n",
       "4293  2020-06-29   0.61128  1.122586   0.81023\n",
       "4294  2020-06-30   0.61097  1.124720   0.81231\n",
       "\n",
       "[4295 rows x 4 columns]"
      ]
     },
     "execution_count": 2,
     "metadata": {},
     "output_type": "execute_result"
    }
   ],
   "source": [
    "pd.read_csv(\"forex_pairs.csv\")"
   ]
  },
  {
   "cell_type": "code",
   "execution_count": 3,
   "metadata": {},
   "outputs": [],
   "source": [
    "symbol = \"EURUSD=X\""
   ]
  },
  {
   "cell_type": "markdown",
   "metadata": {},
   "source": [
    "__MACD__"
   ]
  },
  {
   "cell_type": "code",
   "execution_count": 4,
   "metadata": {},
   "outputs": [],
   "source": [
    "from MACDBacktester import MACDBacktester as MACD"
   ]
  },
  {
   "cell_type": "code",
   "execution_count": 5,
   "metadata": {},
   "outputs": [],
   "source": [
    "ptc = 0.00007"
   ]
  },
  {
   "cell_type": "code",
   "execution_count": 6,
   "metadata": {},
   "outputs": [
    {
     "name": "stderr",
     "output_type": "stream",
     "text": [
      "/opt/anaconda3/lib/python3.8/site-packages/pandas/core/internals/blocks.py:402: RuntimeWarning: invalid value encountered in log\n",
      "  result = func(self.values, **kwargs)\n"
     ]
    }
   ],
   "source": [
    "tester = MACD(symbol, EMA_S = 12, EMA_L = 26, signal_mw = 9,\n",
    "              start = \"2004-01-01\", end = \"2020-06-30\", tc = ptc)"
   ]
  },
  {
   "cell_type": "code",
   "execution_count": 7,
   "metadata": {},
   "outputs": [
    {
     "data": {
      "text/plain": [
       "(0.416605, -0.458123)"
      ]
     },
     "execution_count": 7,
     "metadata": {},
     "output_type": "execute_result"
    }
   ],
   "source": [
    "tester.test_strategy()"
   ]
  },
  {
   "cell_type": "code",
   "execution_count": 8,
   "metadata": {},
   "outputs": [
    {
     "data": {
      "text/plain": [
       "(array([18., 30., 19.]), 0.760579)"
      ]
     },
     "execution_count": 8,
     "metadata": {},
     "output_type": "execute_result"
    }
   ],
   "source": [
    "tester.optimize_parameters((5, 20, 1), (21, 50, 1), (5, 20, 1))"
   ]
  },
  {
   "cell_type": "code",
   "execution_count": 9,
   "metadata": {},
   "outputs": [
    {
     "data": {
      "image/png": "[encoded data removed]",
      "text/plain": [
       "<Figure size 864x576 with 1 Axes>"
      ]
     },
     "metadata": {},
     "output_type": "display_data"
    }
   ],
   "source": [
    "tester.plot_results()"
   ]
  },
  {
   "cell_type": "code",
   "execution_count": 10,
   "metadata": {},
   "outputs": [
    {
     "data": {
      "text/html": [
       "<div>\n",
       "<style scoped>\n",
       "    .dataframe tbody tr th:only-of-type {\n",
       "        vertical-align: middle;\n",
       "    }\n",
       "\n",
       "    .dataframe tbody tr th {\n",
       "        vertical-align: top;\n",
       "    }\n",
       "\n",
       "    .dataframe thead th {\n",
       "        text-align: right;\n",
       "    }\n",
       "</style>\n",
       "<table border=\"1\" class=\"dataframe\">\n",
       "  <thead>\n",
       "    <tr style=\"text-align: right;\">\n",
       "      <th></th>\n",
       "      <th>price</th>\n",
       "      <th>returns</th>\n",
       "      <th>EMA_S</th>\n",
       "      <th>EMA_L</th>\n",
       "      <th>MACD</th>\n",
       "      <th>MACD_Signal</th>\n",
       "      <th>position</th>\n",
       "      <th>strategy</th>\n",
       "      <th>trades</th>\n",
       "      <th>creturns</th>\n",
       "      <th>cstrategy</th>\n",
       "    </tr>\n",
       "    <tr>\n",
       "      <th>Date</th>\n",
       "      <th></th>\n",
       "      <th></th>\n",
       "      <th></th>\n",
       "      <th></th>\n",
       "      <th></th>\n",
       "      <th></th>\n",
       "      <th></th>\n",
       "      <th></th>\n",
       "      <th></th>\n",
       "      <th></th>\n",
       "      <th></th>\n",
       "    </tr>\n",
       "  </thead>\n",
       "  <tbody>\n",
       "    <tr>\n",
       "      <th>2004-03-09</th>\n",
       "      <td>1.231906</td>\n",
       "      <td>-0.008648</td>\n",
       "      <td>1.245075</td>\n",
       "      <td>1.250107</td>\n",
       "      <td>-0.005032</td>\n",
       "      <td>-0.002042</td>\n",
       "      <td>-1</td>\n",
       "      <td>0.008648</td>\n",
       "      <td>0.0</td>\n",
       "      <td>0.991389</td>\n",
       "      <td>1.008686</td>\n",
       "    </tr>\n",
       "    <tr>\n",
       "      <th>2004-03-10</th>\n",
       "      <td>1.223197</td>\n",
       "      <td>-0.007095</td>\n",
       "      <td>1.242763</td>\n",
       "      <td>1.248307</td>\n",
       "      <td>-0.005544</td>\n",
       "      <td>-0.002435</td>\n",
       "      <td>-1</td>\n",
       "      <td>0.007095</td>\n",
       "      <td>0.0</td>\n",
       "      <td>0.984380</td>\n",
       "      <td>1.015868</td>\n",
       "    </tr>\n",
       "    <tr>\n",
       "      <th>2004-03-11</th>\n",
       "      <td>1.235102</td>\n",
       "      <td>0.009686</td>\n",
       "      <td>1.241954</td>\n",
       "      <td>1.247426</td>\n",
       "      <td>-0.005472</td>\n",
       "      <td>-0.002772</td>\n",
       "      <td>-1</td>\n",
       "      <td>-0.009686</td>\n",
       "      <td>0.0</td>\n",
       "      <td>0.993960</td>\n",
       "      <td>1.006076</td>\n",
       "    </tr>\n",
       "    <tr>\n",
       "      <th>2004-03-12</th>\n",
       "      <td>1.222404</td>\n",
       "      <td>-0.010334</td>\n",
       "      <td>1.239890</td>\n",
       "      <td>1.245759</td>\n",
       "      <td>-0.005870</td>\n",
       "      <td>-0.003112</td>\n",
       "      <td>-1</td>\n",
       "      <td>0.010334</td>\n",
       "      <td>0.0</td>\n",
       "      <td>0.983742</td>\n",
       "      <td>1.016527</td>\n",
       "    </tr>\n",
       "    <tr>\n",
       "      <th>2004-03-15</th>\n",
       "      <td>1.227205</td>\n",
       "      <td>0.003919</td>\n",
       "      <td>1.238551</td>\n",
       "      <td>1.244526</td>\n",
       "      <td>-0.005976</td>\n",
       "      <td>-0.003423</td>\n",
       "      <td>-1</td>\n",
       "      <td>-0.003919</td>\n",
       "      <td>0.0</td>\n",
       "      <td>0.987605</td>\n",
       "      <td>1.012550</td>\n",
       "    </tr>\n",
       "    <tr>\n",
       "      <th>...</th>\n",
       "      <td>...</td>\n",
       "      <td>...</td>\n",
       "      <td>...</td>\n",
       "      <td>...</td>\n",
       "      <td>...</td>\n",
       "      <td>...</td>\n",
       "      <td>...</td>\n",
       "      <td>...</td>\n",
       "      <td>...</td>\n",
       "      <td>...</td>\n",
       "      <td>...</td>\n",
       "    </tr>\n",
       "    <tr>\n",
       "      <th>2020-06-24</th>\n",
       "      <td>1.131235</td>\n",
       "      <td>0.002892</td>\n",
       "      <td>1.122109</td>\n",
       "      <td>1.115986</td>\n",
       "      <td>0.006123</td>\n",
       "      <td>0.005332</td>\n",
       "      <td>1</td>\n",
       "      <td>0.002892</td>\n",
       "      <td>0.0</td>\n",
       "      <td>0.910372</td>\n",
       "      <td>0.768002</td>\n",
       "    </tr>\n",
       "    <tr>\n",
       "      <th>2020-06-25</th>\n",
       "      <td>1.125087</td>\n",
       "      <td>-0.005449</td>\n",
       "      <td>1.122422</td>\n",
       "      <td>1.116573</td>\n",
       "      <td>0.005849</td>\n",
       "      <td>0.005384</td>\n",
       "      <td>1</td>\n",
       "      <td>-0.005449</td>\n",
       "      <td>0.0</td>\n",
       "      <td>0.905425</td>\n",
       "      <td>0.763829</td>\n",
       "    </tr>\n",
       "    <tr>\n",
       "      <th>2020-06-26</th>\n",
       "      <td>1.122208</td>\n",
       "      <td>-0.002562</td>\n",
       "      <td>1.122400</td>\n",
       "      <td>1.116937</td>\n",
       "      <td>0.005463</td>\n",
       "      <td>0.005392</td>\n",
       "      <td>1</td>\n",
       "      <td>-0.002562</td>\n",
       "      <td>0.0</td>\n",
       "      <td>0.903108</td>\n",
       "      <td>0.761874</td>\n",
       "    </tr>\n",
       "    <tr>\n",
       "      <th>2020-06-29</th>\n",
       "      <td>1.122586</td>\n",
       "      <td>0.000337</td>\n",
       "      <td>1.122419</td>\n",
       "      <td>1.117301</td>\n",
       "      <td>0.005118</td>\n",
       "      <td>0.005365</td>\n",
       "      <td>-1</td>\n",
       "      <td>0.000197</td>\n",
       "      <td>2.0</td>\n",
       "      <td>0.903413</td>\n",
       "      <td>0.762024</td>\n",
       "    </tr>\n",
       "    <tr>\n",
       "      <th>2020-06-30</th>\n",
       "      <td>1.124720</td>\n",
       "      <td>0.001899</td>\n",
       "      <td>1.122662</td>\n",
       "      <td>1.117780</td>\n",
       "      <td>0.004882</td>\n",
       "      <td>0.005316</td>\n",
       "      <td>-1</td>\n",
       "      <td>-0.001899</td>\n",
       "      <td>0.0</td>\n",
       "      <td>0.905130</td>\n",
       "      <td>0.760579</td>\n",
       "    </tr>\n",
       "  </tbody>\n",
       "</table>\n",
       "<p>4227 rows × 11 columns</p>\n",
       "</div>"
      ],
      "text/plain": [
       "               price   returns     EMA_S     EMA_L      MACD  MACD_Signal  \\\n",
       "Date                                                                        \n",
       "2004-03-09  1.231906 -0.008648  1.245075  1.250107 -0.005032    -0.002042   \n",
       "2004-03-10  1.223197 -0.007095  1.242763  1.248307 -0.005544    -0.002435   \n",
       "2004-03-11  1.235102  0.009686  1.241954  1.247426 -0.005472    -0.002772   \n",
       "2004-03-12  1.222404 -0.010334  1.239890  1.245759 -0.005870    -0.003112   \n",
       "2004-03-15  1.227205  0.003919  1.238551  1.244526 -0.005976    -0.003423   \n",
       "...              ...       ...       ...       ...       ...          ...   \n",
       "2020-06-24  1.131235  0.002892  1.122109  1.115986  0.006123     0.005332   \n",
       "2020-06-25  1.125087 -0.005449  1.122422  1.116573  0.005849     0.005384   \n",
       "2020-06-26  1.122208 -0.002562  1.122400  1.116937  0.005463     0.005392   \n",
       "2020-06-29  1.122586  0.000337  1.122419  1.117301  0.005118     0.005365   \n",
       "2020-06-30  1.124720  0.001899  1.122662  1.117780  0.004882     0.005316   \n",
       "\n",
       "            position  strategy  trades  creturns  cstrategy  \n",
       "Date                                                         \n",
       "2004-03-09        -1  0.008648     0.0  0.991389   1.008686  \n",
       "2004-03-10        -1  0.007095     0.0  0.984380   1.015868  \n",
       "2004-03-11        -1 -0.009686     0.0  0.993960   1.006076  \n",
       "2004-03-12        -1  0.010334     0.0  0.983742   1.016527  \n",
       "2004-03-15        -1 -0.003919     0.0  0.987605   1.012550  \n",
       "...              ...       ...     ...       ...        ...  \n",
       "2020-06-24         1  0.002892     0.0  0.910372   0.768002  \n",
       "2020-06-25         1 -0.005449     0.0  0.905425   0.763829  \n",
       "2020-06-26         1 -0.002562     0.0  0.903108   0.761874  \n",
       "2020-06-29        -1  0.000197     2.0  0.903413   0.762024  \n",
       "2020-06-30        -1 -0.001899     0.0  0.905130   0.760579  \n",
       "\n",
       "[4227 rows x 11 columns]"
      ]
     },
     "execution_count": 10,
     "metadata": {},
     "output_type": "execute_result"
    }
   ],
   "source": [
    "macd = tester.results\n",
    "macd"
   ]
  },
  {
   "cell_type": "markdown",
   "metadata": {},
   "source": [
    "__RSI__"
   ]
  },
  {
   "cell_type": "code",
   "execution_count": 11,
   "metadata": {},
   "outputs": [],
   "source": [
    "from RSIBacktester import RSIBacktester as RSI"
   ]
  },
  {
   "cell_type": "code",
   "execution_count": 12,
   "metadata": {},
   "outputs": [
    {
     "name": "stderr",
     "output_type": "stream",
     "text": [
      "/opt/anaconda3/lib/python3.8/site-packages/pandas/core/internals/blocks.py:402: RuntimeWarning: invalid value encountered in log\n",
      "  result = func(self.values, **kwargs)\n"
     ]
    }
   ],
   "source": [
    "tester = RSI(symbol, periods = 20, rsi_upper = 70, rsi_lower = 30,\n",
    "              start = \"2004-01-01\", end = \"2020-06-30\", tc = ptc)"
   ]
  },
  {
   "cell_type": "code",
   "execution_count": 13,
   "metadata": {},
   "outputs": [
    {
     "data": {
      "text/plain": [
       "(1.527501, 0.62353)"
      ]
     },
     "execution_count": 13,
     "metadata": {},
     "output_type": "execute_result"
    }
   ],
   "source": [
    "tester.test_strategy()"
   ]
  },
  {
   "cell_type": "code",
   "execution_count": 14,
   "metadata": {},
   "outputs": [
    {
     "data": {
      "text/plain": [
       "(array([ 6., 65., 20.]), 2.582989)"
      ]
     },
     "execution_count": 14,
     "metadata": {},
     "output_type": "execute_result"
    }
   ],
   "source": [
    "tester.optimize_parameters((5, 20, 1), (65, 80, 1), (20, 35, 1)) # higher volatility"
   ]
  },
  {
   "cell_type": "code",
   "execution_count": 15,
   "metadata": {},
   "outputs": [
    {
     "data": {
      "image/png": "[encoded data removed]",
      "text/plain": [
       "<Figure size 864x576 with 1 Axes>"
      ]
     },
     "metadata": {},
     "output_type": "display_data"
    }
   ],
   "source": [
    "tester.plot_results()"
   ]
  },
  {
   "cell_type": "code",
   "execution_count": 16,
   "metadata": {},
   "outputs": [
    {
     "data": {
      "text/html": [
       "<div>\n",
       "<style scoped>\n",
       "    .dataframe tbody tr th:only-of-type {\n",
       "        vertical-align: middle;\n",
       "    }\n",
       "\n",
       "    .dataframe tbody tr th {\n",
       "        vertical-align: top;\n",
       "    }\n",
       "\n",
       "    .dataframe thead th {\n",
       "        text-align: right;\n",
       "    }\n",
       "</style>\n",
       "<table border=\"1\" class=\"dataframe\">\n",
       "  <thead>\n",
       "    <tr style=\"text-align: right;\">\n",
       "      <th></th>\n",
       "      <th>price</th>\n",
       "      <th>returns</th>\n",
       "      <th>U</th>\n",
       "      <th>D</th>\n",
       "      <th>MA_U</th>\n",
       "      <th>MA_D</th>\n",
       "      <th>RSI</th>\n",
       "      <th>position</th>\n",
       "      <th>strategy</th>\n",
       "      <th>trades</th>\n",
       "      <th>creturns</th>\n",
       "      <th>cstrategy</th>\n",
       "    </tr>\n",
       "    <tr>\n",
       "      <th>Date</th>\n",
       "      <th></th>\n",
       "      <th></th>\n",
       "      <th></th>\n",
       "      <th></th>\n",
       "      <th></th>\n",
       "      <th></th>\n",
       "      <th></th>\n",
       "      <th></th>\n",
       "      <th></th>\n",
       "      <th></th>\n",
       "      <th></th>\n",
       "      <th></th>\n",
       "    </tr>\n",
       "  </thead>\n",
       "  <tbody>\n",
       "    <tr>\n",
       "      <th>2004-01-09</th>\n",
       "      <td>1.285892</td>\n",
       "      <td>0.006549</td>\n",
       "      <td>0.008394</td>\n",
       "      <td>0.000000</td>\n",
       "      <td>0.005951</td>\n",
       "      <td>0.001335</td>\n",
       "      <td>81.680965</td>\n",
       "      <td>-1.0</td>\n",
       "      <td>-0.006549</td>\n",
       "      <td>0.0</td>\n",
       "      <td>1.006571</td>\n",
       "      <td>0.993472</td>\n",
       "    </tr>\n",
       "    <tr>\n",
       "      <th>2004-01-12</th>\n",
       "      <td>1.274096</td>\n",
       "      <td>-0.009216</td>\n",
       "      <td>0.000000</td>\n",
       "      <td>0.011796</td>\n",
       "      <td>0.005951</td>\n",
       "      <td>0.003301</td>\n",
       "      <td>64.323541</td>\n",
       "      <td>0.0</td>\n",
       "      <td>0.009146</td>\n",
       "      <td>1.0</td>\n",
       "      <td>0.997337</td>\n",
       "      <td>1.002600</td>\n",
       "    </tr>\n",
       "    <tr>\n",
       "      <th>2004-01-13</th>\n",
       "      <td>1.278593</td>\n",
       "      <td>0.003523</td>\n",
       "      <td>0.004496</td>\n",
       "      <td>0.000000</td>\n",
       "      <td>0.004950</td>\n",
       "      <td>0.003301</td>\n",
       "      <td>59.994269</td>\n",
       "      <td>0.0</td>\n",
       "      <td>0.000000</td>\n",
       "      <td>0.0</td>\n",
       "      <td>1.000857</td>\n",
       "      <td>1.002600</td>\n",
       "    </tr>\n",
       "    <tr>\n",
       "      <th>2004-01-14</th>\n",
       "      <td>1.265102</td>\n",
       "      <td>-0.010607</td>\n",
       "      <td>0.000000</td>\n",
       "      <td>0.013490</td>\n",
       "      <td>0.004382</td>\n",
       "      <td>0.005549</td>\n",
       "      <td>44.125849</td>\n",
       "      <td>0.0</td>\n",
       "      <td>-0.000000</td>\n",
       "      <td>0.0</td>\n",
       "      <td>0.990297</td>\n",
       "      <td>1.002600</td>\n",
       "    </tr>\n",
       "    <tr>\n",
       "      <th>2004-01-15</th>\n",
       "      <td>1.260097</td>\n",
       "      <td>-0.003965</td>\n",
       "      <td>0.000000</td>\n",
       "      <td>0.005006</td>\n",
       "      <td>0.004382</td>\n",
       "      <td>0.005049</td>\n",
       "      <td>46.467206</td>\n",
       "      <td>0.0</td>\n",
       "      <td>-0.000000</td>\n",
       "      <td>0.0</td>\n",
       "      <td>0.986378</td>\n",
       "      <td>1.002600</td>\n",
       "    </tr>\n",
       "    <tr>\n",
       "      <th>...</th>\n",
       "      <td>...</td>\n",
       "      <td>...</td>\n",
       "      <td>...</td>\n",
       "      <td>...</td>\n",
       "      <td>...</td>\n",
       "      <td>...</td>\n",
       "      <td>...</td>\n",
       "      <td>...</td>\n",
       "      <td>...</td>\n",
       "      <td>...</td>\n",
       "      <td>...</td>\n",
       "      <td>...</td>\n",
       "    </tr>\n",
       "    <tr>\n",
       "      <th>2020-06-24</th>\n",
       "      <td>1.131235</td>\n",
       "      <td>0.002892</td>\n",
       "      <td>0.003267</td>\n",
       "      <td>0.000000</td>\n",
       "      <td>0.002246</td>\n",
       "      <td>0.002670</td>\n",
       "      <td>45.695372</td>\n",
       "      <td>0.0</td>\n",
       "      <td>0.000000</td>\n",
       "      <td>0.0</td>\n",
       "      <td>0.885508</td>\n",
       "      <td>2.582989</td>\n",
       "    </tr>\n",
       "    <tr>\n",
       "      <th>2020-06-25</th>\n",
       "      <td>1.125087</td>\n",
       "      <td>-0.005449</td>\n",
       "      <td>0.000000</td>\n",
       "      <td>0.006147</td>\n",
       "      <td>0.002246</td>\n",
       "      <td>0.002494</td>\n",
       "      <td>47.393107</td>\n",
       "      <td>0.0</td>\n",
       "      <td>-0.000000</td>\n",
       "      <td>0.0</td>\n",
       "      <td>0.880696</td>\n",
       "      <td>2.582989</td>\n",
       "    </tr>\n",
       "    <tr>\n",
       "      <th>2020-06-26</th>\n",
       "      <td>1.122208</td>\n",
       "      <td>-0.002562</td>\n",
       "      <td>0.000000</td>\n",
       "      <td>0.002879</td>\n",
       "      <td>0.002246</td>\n",
       "      <td>0.002593</td>\n",
       "      <td>46.415685</td>\n",
       "      <td>0.0</td>\n",
       "      <td>-0.000000</td>\n",
       "      <td>0.0</td>\n",
       "      <td>0.878442</td>\n",
       "      <td>2.582989</td>\n",
       "    </tr>\n",
       "    <tr>\n",
       "      <th>2020-06-29</th>\n",
       "      <td>1.122586</td>\n",
       "      <td>0.000337</td>\n",
       "      <td>0.000378</td>\n",
       "      <td>0.000000</td>\n",
       "      <td>0.002310</td>\n",
       "      <td>0.002062</td>\n",
       "      <td>52.833696</td>\n",
       "      <td>0.0</td>\n",
       "      <td>0.000000</td>\n",
       "      <td>0.0</td>\n",
       "      <td>0.878738</td>\n",
       "      <td>2.582989</td>\n",
       "    </tr>\n",
       "    <tr>\n",
       "      <th>2020-06-30</th>\n",
       "      <td>1.124720</td>\n",
       "      <td>0.001899</td>\n",
       "      <td>0.002134</td>\n",
       "      <td>0.000000</td>\n",
       "      <td>0.002665</td>\n",
       "      <td>0.001504</td>\n",
       "      <td>63.920021</td>\n",
       "      <td>0.0</td>\n",
       "      <td>0.000000</td>\n",
       "      <td>0.0</td>\n",
       "      <td>0.880409</td>\n",
       "      <td>2.582989</td>\n",
       "    </tr>\n",
       "  </tbody>\n",
       "</table>\n",
       "<p>4269 rows × 12 columns</p>\n",
       "</div>"
      ],
      "text/plain": [
       "               price   returns         U         D      MA_U      MA_D  \\\n",
       "Date                                                                     \n",
       "2004-01-09  1.285892  0.006549  0.008394  0.000000  0.005951  0.001335   \n",
       "2004-01-12  1.274096 -0.009216  0.000000  0.011796  0.005951  0.003301   \n",
       "2004-01-13  1.278593  0.003523  0.004496  0.000000  0.004950  0.003301   \n",
       "2004-01-14  1.265102 -0.010607  0.000000  0.013490  0.004382  0.005549   \n",
       "2004-01-15  1.260097 -0.003965  0.000000  0.005006  0.004382  0.005049   \n",
       "...              ...       ...       ...       ...       ...       ...   \n",
       "2020-06-24  1.131235  0.002892  0.003267  0.000000  0.002246  0.002670   \n",
       "2020-06-25  1.125087 -0.005449  0.000000  0.006147  0.002246  0.002494   \n",
       "2020-06-26  1.122208 -0.002562  0.000000  0.002879  0.002246  0.002593   \n",
       "2020-06-29  1.122586  0.000337  0.000378  0.000000  0.002310  0.002062   \n",
       "2020-06-30  1.124720  0.001899  0.002134  0.000000  0.002665  0.001504   \n",
       "\n",
       "                  RSI  position  strategy  trades  creturns  cstrategy  \n",
       "Date                                                                    \n",
       "2004-01-09  81.680965      -1.0 -0.006549     0.0  1.006571   0.993472  \n",
       "2004-01-12  64.323541       0.0  0.009146     1.0  0.997337   1.002600  \n",
       "2004-01-13  59.994269       0.0  0.000000     0.0  1.000857   1.002600  \n",
       "2004-01-14  44.125849       0.0 -0.000000     0.0  0.990297   1.002600  \n",
       "2004-01-15  46.467206       0.0 -0.000000     0.0  0.986378   1.002600  \n",
       "...               ...       ...       ...     ...       ...        ...  \n",
       "2020-06-24  45.695372       0.0  0.000000     0.0  0.885508   2.582989  \n",
       "2020-06-25  47.393107       0.0 -0.000000     0.0  0.880696   2.582989  \n",
       "2020-06-26  46.415685       0.0 -0.000000     0.0  0.878442   2.582989  \n",
       "2020-06-29  52.833696       0.0  0.000000     0.0  0.878738   2.582989  \n",
       "2020-06-30  63.920021       0.0  0.000000     0.0  0.880409   2.582989  \n",
       "\n",
       "[4269 rows x 12 columns]"
      ]
     },
     "execution_count": 16,
     "metadata": {},
     "output_type": "execute_result"
    }
   ],
   "source": [
    "rsi = tester.results\n",
    "rsi"
   ]
  },
  {
   "cell_type": "code",
   "execution_count": null,
   "metadata": {},
   "outputs": [],
   "source": []
  },
  {
   "cell_type": "markdown",
   "metadata": {},
   "source": [
    "## Combination"
   ]
  },
  {
   "cell_type": "code",
   "execution_count": 17,
   "metadata": {},
   "outputs": [],
   "source": [
    "comb = macd.loc[:, [\"returns\", \"position\"]].copy()"
   ]
  },
  {
   "cell_type": "code",
   "execution_count": 18,
   "metadata": {},
   "outputs": [
    {
     "data": {
      "text/html": [
       "<div>\n",
       "<style scoped>\n",
       "    .dataframe tbody tr th:only-of-type {\n",
       "        vertical-align: middle;\n",
       "    }\n",
       "\n",
       "    .dataframe tbody tr th {\n",
       "        vertical-align: top;\n",
       "    }\n",
       "\n",
       "    .dataframe thead th {\n",
       "        text-align: right;\n",
       "    }\n",
       "</style>\n",
       "<table border=\"1\" class=\"dataframe\">\n",
       "  <thead>\n",
       "    <tr style=\"text-align: right;\">\n",
       "      <th></th>\n",
       "      <th>returns</th>\n",
       "      <th>position</th>\n",
       "    </tr>\n",
       "    <tr>\n",
       "      <th>Date</th>\n",
       "      <th></th>\n",
       "      <th></th>\n",
       "    </tr>\n",
       "  </thead>\n",
       "  <tbody>\n",
       "    <tr>\n",
       "      <th>2004-03-09</th>\n",
       "      <td>-0.008648</td>\n",
       "      <td>-1</td>\n",
       "    </tr>\n",
       "    <tr>\n",
       "      <th>2004-03-10</th>\n",
       "      <td>-0.007095</td>\n",
       "      <td>-1</td>\n",
       "    </tr>\n",
       "    <tr>\n",
       "      <th>2004-03-11</th>\n",
       "      <td>0.009686</td>\n",
       "      <td>-1</td>\n",
       "    </tr>\n",
       "    <tr>\n",
       "      <th>2004-03-12</th>\n",
       "      <td>-0.010334</td>\n",
       "      <td>-1</td>\n",
       "    </tr>\n",
       "    <tr>\n",
       "      <th>2004-03-15</th>\n",
       "      <td>0.003919</td>\n",
       "      <td>-1</td>\n",
       "    </tr>\n",
       "    <tr>\n",
       "      <th>...</th>\n",
       "      <td>...</td>\n",
       "      <td>...</td>\n",
       "    </tr>\n",
       "    <tr>\n",
       "      <th>2020-06-24</th>\n",
       "      <td>0.002892</td>\n",
       "      <td>1</td>\n",
       "    </tr>\n",
       "    <tr>\n",
       "      <th>2020-06-25</th>\n",
       "      <td>-0.005449</td>\n",
       "      <td>1</td>\n",
       "    </tr>\n",
       "    <tr>\n",
       "      <th>2020-06-26</th>\n",
       "      <td>-0.002562</td>\n",
       "      <td>1</td>\n",
       "    </tr>\n",
       "    <tr>\n",
       "      <th>2020-06-29</th>\n",
       "      <td>0.000337</td>\n",
       "      <td>-1</td>\n",
       "    </tr>\n",
       "    <tr>\n",
       "      <th>2020-06-30</th>\n",
       "      <td>0.001899</td>\n",
       "      <td>-1</td>\n",
       "    </tr>\n",
       "  </tbody>\n",
       "</table>\n",
       "<p>4227 rows × 2 columns</p>\n",
       "</div>"
      ],
      "text/plain": [
       "             returns  position\n",
       "Date                          \n",
       "2004-03-09 -0.008648        -1\n",
       "2004-03-10 -0.007095        -1\n",
       "2004-03-11  0.009686        -1\n",
       "2004-03-12 -0.010334        -1\n",
       "2004-03-15  0.003919        -1\n",
       "...              ...       ...\n",
       "2020-06-24  0.002892         1\n",
       "2020-06-25 -0.005449         1\n",
       "2020-06-26 -0.002562         1\n",
       "2020-06-29  0.000337        -1\n",
       "2020-06-30  0.001899        -1\n",
       "\n",
       "[4227 rows x 2 columns]"
      ]
     },
     "execution_count": 18,
     "metadata": {},
     "output_type": "execute_result"
    }
   ],
   "source": [
    "comb"
   ]
  },
  {
   "cell_type": "code",
   "execution_count": null,
   "metadata": {},
   "outputs": [],
   "source": [
    "comb.rename(columns = {\"position\":\"position_MACD\"}, inplace = True)"
   ]
  },
  {
   "cell_type": "code",
   "execution_count": null,
   "metadata": {},
   "outputs": [],
   "source": [
    "comb[\"position_RSI\"] = rsi.position.astype(\"int\")"
   ]
  },
  {
   "cell_type": "code",
   "execution_count": null,
   "metadata": {},
   "outputs": [],
   "source": [
    "comb"
   ]
  },
  {
   "cell_type": "code",
   "execution_count": null,
   "metadata": {},
   "outputs": [],
   "source": [
    "comb[\"position_comb\"] = np.where(comb.position_MACD == comb.position_RSI, comb.position_MACD, 0)"
   ]
  },
  {
   "cell_type": "code",
   "execution_count": null,
   "metadata": {},
   "outputs": [],
   "source": [
    "comb.position_comb.value_counts()"
   ]
  },
  {
   "cell_type": "code",
   "execution_count": null,
   "metadata": {},
   "outputs": [],
   "source": [
    "comb.position_comb.plot(figsize = (12, 8))\n",
    "plt.show()"
   ]
  },
  {
   "cell_type": "code",
   "execution_count": null,
   "metadata": {},
   "outputs": [],
   "source": [
    "comb[\"strategy\"] = comb[\"position_comb\"].shift(1) * comb[\"returns\"]"
   ]
  },
  {
   "cell_type": "code",
   "execution_count": null,
   "metadata": {},
   "outputs": [],
   "source": [
    "comb"
   ]
  },
  {
   "cell_type": "code",
   "execution_count": null,
   "metadata": {},
   "outputs": [],
   "source": [
    "comb.dropna(inplace=True)"
   ]
  },
  {
   "cell_type": "code",
   "execution_count": null,
   "metadata": {},
   "outputs": [],
   "source": [
    "comb[\"trades\"] = comb.position_comb.diff().fillna(0).abs()"
   ]
  },
  {
   "cell_type": "code",
   "execution_count": null,
   "metadata": {},
   "outputs": [],
   "source": [
    "comb.strategy = comb.strategy - comb.trades * ptc"
   ]
  },
  {
   "cell_type": "code",
   "execution_count": null,
   "metadata": {},
   "outputs": [],
   "source": [
    "comb[\"creturns\"] = comb[\"returns\"].cumsum().apply(np.exp)\n",
    "comb[\"cstrategy\"] = comb[\"strategy\"].cumsum().apply(np.exp)"
   ]
  },
  {
   "cell_type": "code",
   "execution_count": null,
   "metadata": {},
   "outputs": [],
   "source": [
    "comb[[\"creturns\", \"cstrategy\"]].plot(figsize = (12, 8), fontsize = 12)\n",
    "plt.legend(fontsize = 12)\n",
    "plt.show()"
   ]
  },
  {
   "cell_type": "code",
   "execution_count": null,
   "metadata": {},
   "outputs": [],
   "source": []
  },
  {
   "cell_type": "code",
   "execution_count": null,
   "metadata": {},
   "outputs": [],
   "source": []
  }
 ],
 "metadata": {
  "kernelspec": {
   "display_name": "Python 3 (ipykernel)",
   "language": "python",
   "name": "python3"
  },
  "language_info": {
   "codemirror_mode": {
    "name": "ipython",
    "version": 3
   },
   "file_extension": ".py",
   "mimetype": "text/x-python",
   "name": "python",
   "nbconvert_exporter": "python",
   "pygments_lexer": "ipython3",
   "version": "3.8.12"
  }
 },
 "nbformat": 4,
 "nbformat_minor": 4
}
